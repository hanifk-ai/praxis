{
 "cells": [
  {
   "cell_type": "code",
   "execution_count": 12,
   "id": "8145d2cd-07fb-47e8-8714-d501a5d2eb96",
   "metadata": {},
   "outputs": [
    {
     "name": "stdout",
     "output_type": "stream",
     "text": [
      "(1, 'Janet Jones', 'First Street Plot No 4', 2)\n",
      "(2, 'Robert Phil', '3rd Street 24', 1)\n",
      "(3, 'Robert Phil', '5th Avenue', 1)\n"
     ]
    }
   ],
   "source": [
    "import mariadb\n",
    "\n",
    "mydb = mariadb.connect(\n",
    "        user=\"root\",\n",
    "        password=\"root\",\n",
    "        host=\"localhost\",\n",
    "        port=3306,\n",
    "        database=\"mysql\"\n",
    "\n",
    "    )\n",
    "\n",
    "mycursor = mydb.cursor()\n",
    "\n",
    "mycursor.execute(\"SELECT * FROM customers\")\n",
    "\n",
    "for x in mycursor:\n",
    "    print(x) "
   ]
  },
  {
   "cell_type": "code",
   "execution_count": 9,
   "id": "769c4c5a-48a1-4e0c-abb6-ab07d06cb19c",
   "metadata": {},
   "outputs": [],
   "source": [
    "import mariadb\n",
    "\n",
    "mydb = mariadb.connect(\n",
    "        user=\"root\",\n",
    "        password=\"root\",\n",
    "        host=\"localhost\",\n",
    "        port=3306,\n",
    "        database=\"mysql\"\n",
    "\n",
    "    )\n",
    "\n",
    "mycursor = mydb.cursor()\n",
    "\n",
    "mycursor.execute(\"CREATE TABLE customers(Membership_ID INT NOT NULL, Full_Names VARCHAR (20) NOT NULL, Physical_Address CHAR (25), Salutation_ID INT NOT NULL)\")"
   ]
  },
  {
   "cell_type": "code",
   "execution_count": 11,
   "id": "47b264c7-f48b-43fc-b952-d8d30e974952",
   "metadata": {},
   "outputs": [
    {
     "name": "stdout",
     "output_type": "stream",
     "text": [
      "3 record inserted.\n"
     ]
    }
   ],
   "source": [
    "import mariadb\n",
    "\n",
    "mydb = mariadb.connect(\n",
    "        user=\"root\",\n",
    "        password=\"root\",\n",
    "        host=\"localhost\",\n",
    "        port=3306,\n",
    "        database=\"mysql\"\n",
    "\n",
    "    )\n",
    "\n",
    "mycursor = mydb.cursor()\n",
    "\n",
    "\n",
    "sql = \"INSERT INTO customers (Membership_ID, Full_Names, Physical_Address, Salutation_ID) VALUES (%d, %s, %s, %d)\"\n",
    "val = [\n",
    "  ('1', 'Janet Jones', 'First Street Plot No 4', '2'),\n",
    "  ('2', 'Robert Phil', '3rd Street 24', '1'),\n",
    "  ('3', 'Robert Phil', '5th Avenue', '1')\n",
    "]\n",
    "\n",
    "mycursor.executemany(sql, val)\n",
    "\n",
    "mydb.commit()\n",
    "\n",
    "print(mycursor.rowcount, \"record inserted.\")"
   ]
  },
  {
   "cell_type": "code",
   "execution_count": 13,
   "id": "8bf71492-d557-49a2-b68c-26343d5601c2",
   "metadata": {},
   "outputs": [],
   "source": [
    "import mariadb\n",
    "\n",
    "mydb = mariadb.connect(\n",
    "        user=\"root\",\n",
    "        password=\"root\",\n",
    "        host=\"localhost\",\n",
    "        port=3306,\n",
    "        database=\"mysql\"\n",
    "\n",
    "    )\n",
    "\n",
    "mycursor = mydb.cursor()\n",
    "\n",
    "mycursor.execute(\"CREATE TABLE movies(Membership_ID INT NOT NULL, Movies_Rented VARCHAR (20) NOT NULL)\")"
   ]
  },
  {
   "cell_type": "code",
   "execution_count": 20,
   "id": "0d67a60d-18b3-4d9a-bc88-d22336d10fa4",
   "metadata": {},
   "outputs": [],
   "source": [
    "import mariadb\n",
    "\n",
    "mydb = mariadb.connect(\n",
    "        user=\"root\",\n",
    "        password=\"root\",\n",
    "        host=\"localhost\",\n",
    "        port=3306,\n",
    "        database=\"mysql\"\n",
    "\n",
    "    )\n",
    "\n",
    "mycursor = mydb.cursor()\n",
    "\n",
    "mycursor.execute(\"ALTER TABLE movies MODIFY Movies_Rented LONGTEXT\")"
   ]
  },
  {
   "cell_type": "code",
   "execution_count": 21,
   "id": "d763aceb-3fa4-4f12-b4bd-acae835b3b2a",
   "metadata": {},
   "outputs": [
    {
     "name": "stdout",
     "output_type": "stream",
     "text": [
      "5 was inserted.\n"
     ]
    }
   ],
   "source": [
    "import mariadb\n",
    "\n",
    "mydb = mariadb.connect(\n",
    "        user=\"root\",\n",
    "        password=\"root\",\n",
    "        host=\"localhost\",\n",
    "        port=3306,\n",
    "        database=\"mysql\"\n",
    "\n",
    "    )\n",
    "\n",
    "mycursor = mydb.cursor()\n",
    "\n",
    "\n",
    "sql = \"INSERT INTO movies (Membership_ID, Movies_Rented) VALUES (%d, %s)\"\n",
    "val = [\n",
    "  (\"1\", \"Pirates of the Caribbean\"),\n",
    "  (\"1\", \"Clash of the Titans\"),\n",
    "  (\"2\", \"Forgetting Sarah Marshal\"),\n",
    "  (\"2\", \"Daddy's Little Girl\"),\n",
    "  (\"3\", \"Clash of the Titans\")\n",
    "]\n",
    "\n",
    "mycursor.executemany(sql, val)\n",
    "\n",
    "\n",
    "mydb.commit()\n",
    "\n",
    "print(mycursor.rowcount, \"was inserted.\") "
   ]
  },
  {
   "cell_type": "code",
   "execution_count": 22,
   "id": "a9e75964-9c01-4b57-9b09-d5c0d1171b41",
   "metadata": {},
   "outputs": [],
   "source": [
    "import mariadb\n",
    "\n",
    "mydb = mariadb.connect(\n",
    "        user=\"root\",\n",
    "        password=\"root\",\n",
    "        host=\"localhost\",\n",
    "        port=3306,\n",
    "        database=\"mysql\"\n",
    "\n",
    "    )\n",
    "\n",
    "mycursor = mydb.cursor()\n",
    "\n",
    "mycursor.execute(\"CREATE TABLE salutation(Salutation_ID INT NOT NULL, Salutation VARCHAR (20) NOT NULL)\")"
   ]
  },
  {
   "cell_type": "code",
   "execution_count": 24,
   "id": "be2127cb-9872-4089-8540-42a2ee85863f",
   "metadata": {},
   "outputs": [
    {
     "name": "stdout",
     "output_type": "stream",
     "text": [
      "4 was inserted.\n"
     ]
    }
   ],
   "source": [
    "import mariadb\n",
    "\n",
    "mydb = mariadb.connect(\n",
    "        user=\"root\",\n",
    "        password=\"root\",\n",
    "        host=\"localhost\",\n",
    "        port=3306,\n",
    "        database=\"mysql\"\n",
    "\n",
    "    )\n",
    "\n",
    "mycursor = mydb.cursor()\n",
    "\n",
    "\n",
    "sql = \"INSERT INTO salutation (Salutation_ID, Salutation) VALUES (%d, %s)\"\n",
    "val = [\n",
    "  (\"1\", \"Mr.\"),\n",
    "  (\"2\", \"Ms.\"),\n",
    "  (\"3\", \"Mrs.\"),\n",
    "  (\"4\", \"Dr.\")\n",
    "]\n",
    "\n",
    "mycursor.executemany(sql, val)\n",
    "\n",
    "\n",
    "mydb.commit()\n",
    "\n",
    "print(mycursor.rowcount, \"was inserted.\") "
   ]
  },
  {
   "cell_type": "code",
   "execution_count": 10,
   "id": "42da5600-e110-4774-93b3-ed173f535c67",
   "metadata": {},
   "outputs": [
    {
     "name": "stdout",
     "output_type": "stream",
     "text": [
      "('Janet Jones', 'Pirates of the Caribbean')\n",
      "('Janet Jones', 'Clash of the Titans')\n"
     ]
    }
   ],
   "source": [
    "import mariadb\n",
    "\n",
    "mydb = mariadb.connect(\n",
    "        user=\"root\",\n",
    "        password=\"root\",\n",
    "        host=\"localhost\",\n",
    "        port=3306,\n",
    "        database=\"mysql\"\n",
    "\n",
    "    )\n",
    "\n",
    "mycursor = mydb.cursor()\n",
    "\n",
    "sql = \"SELECT customers.Full_Names, movies.Movies_Rented FROM customers JOIN movies ON customers.Membership_ID = movies.Membership_ID WHERE customers.Full_Names ='Janet Jones'\"\n",
    "\n",
    "mycursor.execute(sql)\n",
    "\n",
    "myresult = mycursor.fetchall()\n",
    "\n",
    "for x in myresult:\n",
    "    print(x)"
   ]
  },
  {
   "cell_type": "code",
   "execution_count": 11,
   "id": "f649161f-9972-4f57-a847-254af139cd34",
   "metadata": {},
   "outputs": [
    {
     "name": "stdout",
     "output_type": "stream",
     "text": [
      "2022-04-22 19:00:02.794791\n"
     ]
    }
   ],
   "source": [
    "import datetime\n",
    "\n",
    "x = datetime.datetime.now()\n",
    "print(x) "
   ]
  },
  {
   "cell_type": "code",
   "execution_count": null,
   "id": "15ae1ef6-3b66-4484-8f7d-4043c1538c12",
   "metadata": {},
   "outputs": [],
   "source": []
  }
 ],
 "metadata": {
  "kernelspec": {
   "display_name": "Python 3 (ipykernel)",
   "language": "python",
   "name": "python3"
  },
  "language_info": {
   "codemirror_mode": {
    "name": "ipython",
    "version": 3
   },
   "file_extension": ".py",
   "mimetype": "text/x-python",
   "name": "python",
   "nbconvert_exporter": "python",
   "pygments_lexer": "ipython3",
   "version": "3.8.10"
  }
 },
 "nbformat": 4,
 "nbformat_minor": 5
}
